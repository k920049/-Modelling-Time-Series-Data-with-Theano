{
 "cells": [
  {
   "cell_type": "markdown",
   "metadata": {
    "collapsed": true
   },
   "source": [
    "# DRTED: Tutorial for using RNNs on EHR data for predicting severity of illness of patients in the PICU.\n",
    "\n",
    "This tutorial illustrates how to process Electronic Health Records (EHR) data and leverage state-of-the-art deep learning techniques (RNN) to predict severity of illness in patients in a Pediatric ICU (PICU).\n",
    "\n",
    "We will start from a pre-curated dataset, construct the deep learning model, and evaluate our model by comparing it with current baseline algorithms used in the PICU: pim2 and prism3."
   ]
  },
  {
   "cell_type": "markdown",
   "metadata": {},
   "source": [
    "### 1. Setup\n",
    "* Set up python environment"
   ]
  },
  {
   "cell_type": "code",
   "execution_count": 4,
   "metadata": {
    "collapsed": false
   },
   "outputs": [
    {
     "name": "stderr",
     "output_type": "stream",
     "text": [
      "Using Theano backend.\n"
     ]
    }
   ],
   "source": [
    "# general imports\n",
    "import numpy as np               # for numerical manipulations\n",
    "import pandas as pd              # for dataframe manipulations\n",
    "import os                        # convenient pathing\n",
    "import matplotlib.pyplot as plt  # for plotting\n",
    "import keras                     # for training RNN\n",
    "\n",
    "# display plots in notebook\n",
    "%matplotlib inline"
   ]
  },
  {
   "cell_type": "markdown",
   "metadata": {},
   "source": [
    "* Get the data"
   ]
  },
  {
   "cell_type": "code",
   "execution_count": 5,
   "metadata": {
    "collapsed": false
   },
   "outputs": [],
   "source": [
    "# set up user paths\n",
    "data_dir = './data'\n",
    "#data_dir = '/mnt/Swell/Data/DRTED/DRTEDv3/patientSequences/DS_3X_sequences_NVIDIA_full'  # temporary\n",
    "\n",
    "# training data inputs: x and targets: y\n",
    "x_train_path = os.path.join(data_dir, 'X_train.hdf')\n",
    "y_train_path = os.path.join(data_dir, 'y_train.hdf')\n",
    "\n",
    "# validation data inputs: x and targest: y\n",
    "x_valid_path = os.path.join(data_dir, 'X_test.hdf')\n",
    "y_valid_path = os.path.join(data_dir, 'y_test.hdf')"
   ]
  },
  {
   "cell_type": "markdown",
   "metadata": {},
   "source": [
    "### 2. Load and Preprocess Data"
   ]
  },
  {
   "cell_type": "markdown",
   "metadata": {},
   "source": [
    "EHR is a database containing medical treatments and histories of patients collected in the hospital. The EHR data used here spans 10 years worth of patients in the PICU at Children's Hospital Los Angeles, curated by the virtual PICU (vPICU) team. \n",
    "\n",
    "<img style=\"float: right;\" src=\"images/ehr.svg\" width=\"450\" height=\"300\">\n",
    "The data is an irregular time series of measurements taken over the course of a patient's stay in the ICU. Time between measurements can vary from minutes to hours. A simplified diagram of the data can be seen on the right. Measurements include:\n",
    "\n",
    "* **Statics** *(e.g. gender, age, weight)*\n",
    "* **Vitals** *(e.g. heart rate, respiratory rate)*\n",
    "* **Labs** *(e.g. glucose, creatinine)*\n",
    "* **Interventions** *(e.g. intubation, O2)*\n",
    "* **Drugs** *(e.g. dopamine, epinephrine)*\n",
    "\n",
    "For a complete list, see [ehr_features.csv](ehr_features.csv)\n",
    "\n",
    "One thing to note is that in addition to the non-uniform sampling, not all measurements were taken for all patients."
   ]
  },
  {
   "cell_type": "markdown",
   "metadata": {},
   "source": [
    "* Load databases"
   ]
  },
  {
   "cell_type": "code",
   "execution_count": 8,
   "metadata": {
    "collapsed": false
   },
   "outputs": [],
   "source": [
    "# For this convenience, the data was stored using Panda's HDF format.\n",
    "X_train, y_train = pd.read_hdf(x_train_path), pd.read_hdf(y_train_path)\n",
    "X_valid, y_valid = pd.read_hdf(x_valid_path), pd.read_hdf(y_valid_path)"
   ]
  },
  {
   "cell_type": "code",
   "execution_count": 9,
   "metadata": {
    "collapsed": false
   },
   "outputs": [
    {
     "name": "stdout",
     "output_type": "stream",
     "text": [
      "X_train                                                               y_train\n",
      "                                Heart rate (bpm)  PulseOximetry   |                                   mortalityResponse\n",
      "b'encounterID' b'absoluteTime'                                    |   b'encounterID' b'absoluteTime'                   \n",
      "8              0.000000                    107.0          100.0   |   8              0.000000                         1\n",
      "               0.250000                     98.0          100.0   |                  0.250000                         1\n",
      "               0.500000                      NaN            NaN   |                  0.500000                         1\n",
      "               0.583333                      NaN            NaN   |                  0.583333                         1\n",
      "               0.750000                    103.0          100.0   |                  0.750000                         1\n",
      "               1.383333                      NaN            NaN   |                  1.383333                         1\n",
      "               1.750000                    107.0          100.0   |                  1.750000                         1\n",
      "               2.250000                      NaN            NaN   |                  2.250000                         1\n",
      "               2.500000                      NaN            NaN   |                  2.500000                         1\n",
      "               2.750000                     95.0          100.0   |                  2.750000                         1\n",
      "...                                          ...            ...   |   ...                                           ...\n",
      "11             40.750000                     NaN            NaN   |   11             40.750000                        1\n",
      "               41.000000                   131.0           95.0   |                  41.000000                        1\n",
      "               42.000000                   137.0           95.0   |                  42.000000                        1\n",
      "               43.000000                   129.0           98.0   |                  43.000000                        1\n",
      "               44.000000                   130.0           97.0   |                  44.000000                        1\n",
      "               45.000000                   133.0           99.0   |                  45.000000                        1\n",
      "               46.000000                   132.0           96.0   |                  46.000000                        1\n",
      "               47.000000                   128.0           96.0   |                  47.000000                        1\n",
      "               48.000000                   131.0           97.0   |                  48.000000                        1\n",
      "               49.000000                     NaN            NaN   |                  49.000000                        1\n"
     ]
    }
   ],
   "source": [
    "# The data is a multi-index dataframe, \n",
    "#    with level 0 as the patient encounter identifier \n",
    "#    and level 1 the time of each measurement (in units of hours since first measurement)\n",
    "\n",
    "# print the first two patient's x & y data\n",
    "patients = list(X_train.index.levels[0][:2])\n",
    "example_columns = ['Heart rate (bpm)', 'PulseOximetry']\n",
    "\n",
    "# build fancy print function to print x & y dataframes side by side.\n",
    "def print_examples():\n",
    "    pd.set_option(\"display.max_rows\", 20)\n",
    "    x_string = X_train.loc[patients, example_columns].__str__().split('\\n')\n",
    "    y_string = y_train.loc[patients].__str__().split('\\n')\n",
    "    ret = [\"X_train\" + ' ' * len(x_string[0]) + \"y_train\"]\n",
    "    for i in range(len(x_string) - 2):\n",
    "        ret.append(x_string[i] + '   |   ' + y_string[i])\n",
    "    print('\\n'.join(ret))\n",
    "\n",
    "print_examples()"
   ]
  },
  {
   "cell_type": "markdown",
   "metadata": {},
   "source": [
    "* Preprocess data"
   ]
  },
  {
   "cell_type": "markdown",
   "metadata": {},
   "source": [
    "For each feature, center the data around the origin (mean subtraction) and normalize (apply unit variance). This puts each measurement on the same scale to be equally important to the learning algorithm. Experimentally, this has shown to lead to more stable initializations & training of the algorithm."
   ]
  },
  {
   "cell_type": "code",
   "execution_count": 11,
   "metadata": {
    "collapsed": false,
    "scrolled": true
   },
   "outputs": [
    {
     "name": "stdout",
     "output_type": "stream",
     "text": [
      "X_train                                                               y_train\n",
      "                                Heart rate (bpm)  PulseOximetry   |                                   mortalityResponse\n",
      "b'encounterID' b'absoluteTime'                                    |   b'encounterID' b'absoluteTime'                   \n",
      "8              0.000000                -0.429630       0.805317   |   8              0.000000                         1\n",
      "               0.250000                -0.986894       0.805317   |                  0.250000                         1\n",
      "               0.500000                      NaN            NaN   |                  0.500000                         1\n",
      "               0.583333                      NaN            NaN   |                  0.583333                         1\n",
      "               0.750000                -0.677303       0.805317   |                  0.750000                         1\n",
      "               1.383333                      NaN            NaN   |                  1.383333                         1\n",
      "               1.750000                -0.429630       0.805317   |                  1.750000                         1\n",
      "               2.250000                      NaN            NaN   |                  2.250000                         1\n",
      "               2.500000                      NaN            NaN   |                  2.500000                         1\n",
      "               2.750000                -1.172649       0.805317   |                  2.750000                         1\n",
      "...                                          ...            ...   |   ...                                           ...\n",
      "11             40.750000                     NaN            NaN   |   11             40.750000                        1\n",
      "               41.000000                1.056408      -0.932263   |                  41.000000                        1\n",
      "               42.000000                1.427918      -0.932263   |                  42.000000                        1\n",
      "               43.000000                0.932572       0.110285   |                  43.000000                        1\n",
      "               44.000000                0.994490      -0.237231   |                  44.000000                        1\n",
      "               45.000000                1.180245       0.457801   |                  45.000000                        1\n",
      "               46.000000                1.118327      -0.584747   |                  46.000000                        1\n",
      "               47.000000                0.870654      -0.584747   |                  47.000000                        1\n",
      "               48.000000                1.056408      -0.237231   |                  48.000000                        1\n",
      "               49.000000                     NaN            NaN   |                  49.000000                        1\n"
     ]
    }
   ],
   "source": [
    "# For convenience, each feature statistics was calculated and stored in `data/ehr_features.csv`\n",
    "feature_stats = pd.read_csv(os.path.join(data_dir, 'ehr_features.csv'), index_col=0)\n",
    "feature_stats = feature_stats[feature_stats['type'].isin(['Interventions', 'Labs', 'Vitals'])]\n",
    "for feature_name, vals in feature_stats.iterrows():\n",
    "    # training data\n",
    "    X_train[feature_name] = X_train[feature_name] - vals['mean']\n",
    "    X_train[feature_name] = X_train[feature_name] / (vals['std'] + 1e-12)\n",
    "    \n",
    "    # validation data\n",
    "    X_valid[feature_name] = X_valid[feature_name] - vals['mean']\n",
    "    X_valid[feature_name] = X_valid[feature_name] / (vals['std'] + 1e-12)\n",
    "    \n",
    "# print the two patients data again, now with zero-mean unit variance\n",
    "print_examples()"
   ]
  },
  {
   "cell_type": "markdown",
   "metadata": {},
   "source": [
    "* Impute missing data"
   ]
  },
  {
   "cell_type": "markdown",
   "metadata": {},
   "source": [
    "Imputing missing data is a very active area of research. There is currently no standard practice -- especially for applications of time series and deep learning models. For this tutorial, we will simply forward fill existing measurements for each patient, and fill any feature with no measurement to 0. This is illustrated in the figure below.\n",
    "\n",
    "<img src=\"images/imputation_diagram.svg\" width=\"800\" height=\"200\">"
   ]
  },
  {
   "cell_type": "code",
   "execution_count": 12,
   "metadata": {
    "collapsed": false
   },
   "outputs": [
    {
     "name": "stdout",
     "output_type": "stream",
     "text": [
      "X_train                                                               y_train\n",
      "                                Heart rate (bpm)  PulseOximetry   |                                   mortalityResponse\n",
      "b'encounterID' b'absoluteTime'                                    |   b'encounterID' b'absoluteTime'                   \n",
      "8              0.000000                -0.429630       0.805317   |   8              0.000000                         1\n",
      "               0.250000                -0.986894       0.805317   |                  0.250000                         1\n",
      "               0.500000                -0.986894       0.805317   |                  0.500000                         1\n",
      "               0.583333                -0.986894       0.805317   |                  0.583333                         1\n",
      "               0.750000                -0.677303       0.805317   |                  0.750000                         1\n",
      "               1.383333                -0.677303       0.805317   |                  1.383333                         1\n",
      "               1.750000                -0.429630       0.805317   |                  1.750000                         1\n",
      "               2.250000                -0.429630       0.805317   |                  2.250000                         1\n",
      "               2.500000                -0.429630       0.805317   |                  2.500000                         1\n",
      "               2.750000                -1.172649       0.805317   |                  2.750000                         1\n",
      "...                                          ...            ...   |   ...                                           ...\n",
      "11             40.750000                1.551754      -1.279779   |   11             40.750000                        1\n",
      "               41.000000                1.056408      -0.932263   |                  41.000000                        1\n",
      "               42.000000                1.427918      -0.932263   |                  42.000000                        1\n",
      "               43.000000                0.932572       0.110285   |                  43.000000                        1\n",
      "               44.000000                0.994490      -0.237231   |                  44.000000                        1\n",
      "               45.000000                1.180245       0.457801   |                  45.000000                        1\n",
      "               46.000000                1.118327      -0.584747   |                  46.000000                        1\n",
      "               47.000000                0.870654      -0.584747   |                  47.000000                        1\n",
      "               48.000000                1.056408      -0.237231   |                  48.000000                        1\n",
      "               49.000000                1.056408      -0.237231   |                  49.000000                        1\n"
     ]
    }
   ],
   "source": [
    "# Use panda's great dataframe functions to forward fill each patient's measurements and fill any non-measured with 0.\n",
    "# on the training data. This is only done for vitals and labs. Computation will take ~30 seconds.\n",
    "ffill_cols = feature_stats[feature_stats['type'].isin(['Vitals', 'Labs'])].index\n",
    "X_train[ffill_cols] = X_train.groupby(level=0)[ffill_cols].ffill()\n",
    "X_train.fillna(value=0, inplace=True)\n",
    "\n",
    "# on the validation data\n",
    "X_valid[ffill_cols] = X_valid.groupby(level=0)[ffill_cols].ffill()\n",
    "X_valid.fillna(value=0, inplace=True)\n",
    "\n",
    "# print the two patients data again, now with imputations\n",
    "print_examples()"
   ]
  },
  {
   "cell_type": "markdown",
   "metadata": {},
   "source": [
    "* Prepare data into minibatches for training the RNN (Computation should take ~60 seconds\n",
    ")"
   ]
  },
  {
   "cell_type": "code",
   "execution_count": 7,
   "metadata": {
    "collapsed": false
   },
   "outputs": [],
   "source": [
    "from keras.preprocessing import sequence\n",
    "\n",
    "# max number of sequence length\n",
    "maxlen = 500\n",
    "\n",
    "# get a unique list of training patients\n",
    "train_patients = np.array(X_train.index.levels[0])\n",
    "\n",
    "# pad every patient sequence with 0s to be the same length, \n",
    "# then transforms the list of sequences to one numpy array\n",
    "# this is for efficient minibatching and GPU computations \n",
    "X_train = [X_train.loc[patient].values for patient in train_patients]\n",
    "X_train = sequence.pad_sequences(X_train, dtype='float32', maxlen=maxlen, padding='post', truncating='post')\n",
    "\n",
    "y_train = [y_train.loc[patient].values for patient in train_patients]\n",
    "y_train = sequence.pad_sequences(y_train, dtype='float32', maxlen=maxlen, padding='post', truncating='post')\n",
    "\n",
    "# repeat for the validation data\n",
    "valid_patients = np.array(X_valid.index.levels[0])\n",
    "X_valid = [X_valid.loc[patient].values for patient in valid_patients]\n",
    "X_valid = sequence.pad_sequences(X_valid, dtype='float32', maxlen=maxlen, padding='post', truncating='post')\n",
    "\n",
    "y_valid = [y_valid.loc[patient].values for patient in valid_patients]\n",
    "y_valid = sequence.pad_sequences(y_valid, dtype='float32', maxlen=maxlen, padding='post', truncating='post')"
   ]
  },
  {
   "cell_type": "code",
   "execution_count": 8,
   "metadata": {
    "collapsed": false
   },
   "outputs": [
    {
     "name": "stdout",
     "output_type": "stream",
     "text": [
      "X_train shape: (5000, 500, 265) | y_train shape: (5000, 500, 1)\n",
      "X_valid shape: (2690, 500, 265) | y_valid shape: (2690, 500, 1)\n"
     ]
    }
   ],
   "source": [
    "# print the shape of the array which will be used by the network\n",
    "# the shape is of the form (# of encounters, length of sequence, # of features)\n",
    "print(\"X_train shape: %s | y_train shape: %s\" % (str(X_train.shape), str(y_train.shape)))\n",
    "print(\"X_valid shape: %s | y_valid shape: %s\" % (str(X_valid.shape), str(y_valid.shape)))"
   ]
  },
  {
   "cell_type": "markdown",
   "metadata": {},
   "source": [
    "### 3. Train Recurrent Neural Network (using keras)"
   ]
  },
  {
   "cell_type": "markdown",
   "metadata": {},
   "source": [
    "We'll construct an RNN in order to ingest the data and make a prediction at each timestep of the patient's probability of survival. The image below shows an abstract representation of the model.\n",
    "\n",
    "<img src=\"images/drted_rnn.svg\" width=\"1000\" height=\"400\">\n",
    "\n",
    "We will be using a many-to-many prediction scheme. At each time step the measurements recorded will be used as input and a probability of survival prediction will be generated. It is important to note that this enables a real time monitor of the patient's probability of survival and insight into the patient's trajectory.\n",
    "\n",
    "For more information on RNNs we recommend [Andrej Kaparthy's Blog on The Unreasonable Effectiveness of Recurrent Neural Networks](http://karpathy.github.io/2015/05/21/rnn-effectiveness/) and [Christopher Olah's tutorial for Understanding LSTM Networks](http://colah.github.io/posts/2015-08-Understanding-LSTMs/)"
   ]
  },
  {
   "cell_type": "markdown",
   "metadata": {},
   "source": [
    "* Build model using Keras Functional API (version > 1.0)"
   ]
  },
  {
   "cell_type": "code",
   "execution_count": 15,
   "metadata": {
    "collapsed": false
   },
   "outputs": [
    {
     "name": "stdout",
     "output_type": "stream",
     "text": [
      "____________________________________________________________________________________________________\n",
      "Layer (type)                     Output Shape          Param #     Connected to                     \n",
      "====================================================================================================\n",
      "input (InputLayer)               (None, None, 265)     0                                            \n",
      "____________________________________________________________________________________________________\n",
      "input_masked (Masking)           (None, None, 265)     0           input[0][0]                      \n",
      "____________________________________________________________________________________________________\n",
      "lstm1 (LSTM)                     (None, None, 128)     201728      input_masked[0][0]               \n",
      "____________________________________________________________________________________________________\n",
      "lstm2 (LSTM)                     (None, None, 256)     394240      lstm1[0][0]                      \n",
      "____________________________________________________________________________________________________\n",
      "output (TimeDistributed)         (None, None, 1)       257         lstm2[0][0]                      \n",
      "====================================================================================================\n",
      "Total params: 596225\n",
      "____________________________________________________________________________________________________\n"
     ]
    }
   ],
   "source": [
    "from keras.layers import LSTM, Dense, Input, TimeDistributed, Masking\n",
    "from keras.models import Model\n",
    "from keras.optimizers import RMSprop\n",
    "\n",
    "# minibatch size\n",
    "batch_size = 128\n",
    "\n",
    "# construct inputs\n",
    "x = Input((None, X_train.shape[-1]) , name='input')\n",
    "mask = Masking(0, name='input_masked')(x)\n",
    "\n",
    "# stack LSTMs\n",
    "lstm_kwargs = {'dropout_W': 0.25, 'dropout_U': 0.1, 'return_sequences': True, 'consume_less': 'gpu'}\n",
    "lstm1 = LSTM(128, name='lstm1', **lstm_kwargs)(mask)\n",
    "lstm2 = LSTM(256, name='lstm2', **lstm_kwargs)(lstm1)\n",
    "\n",
    "# output: sigmoid layer\n",
    "output = TimeDistributed(Dense(1, activation='sigmoid'), name='output')(lstm2)\n",
    "model = Model(input=x, output=output)\n",
    "\n",
    "# compile model\n",
    "optimizer = RMSprop(lr=0.005)\n",
    "model.compile(optimizer=optimizer, loss='binary_crossentropy')\n",
    "\n",
    "# print layer shapes and model parameters\n",
    "model.summary()"
   ]
  },
  {
   "cell_type": "code",
   "execution_count": 16,
   "metadata": {
    "collapsed": false
   },
   "outputs": [
    {
     "data": {
      "image/svg+xml": [
       "<svg height=\"387pt\" viewBox=\"0.00 0.00 336.00 387.00\" width=\"336pt\" xmlns=\"http://www.w3.org/2000/svg\" xmlns:xlink=\"http://www.w3.org/1999/xlink\">\n",
       "<g class=\"graph\" id=\"graph0\" transform=\"scale(1 1) rotate(0) translate(4 383)\">\n",
       "<title>G</title>\n",
       "<polygon fill=\"white\" points=\"-4,4 -4,-383 332,-383 332,4 -4,4\" stroke=\"none\"/>\n",
       "<!-- 140403261341392 -->\n",
       "<g class=\"node\" id=\"node1\"><title>140403261341392</title>\n",
       "<polygon fill=\"none\" points=\"18.5,-332.5 18.5,-378.5 309.5,-378.5 309.5,-332.5 18.5,-332.5\" stroke=\"black\"/>\n",
       "<text font-family=\"Times,serif\" font-size=\"14.00\" text-anchor=\"middle\" x=\"77\" y=\"-351.8\">input (InputLayer)</text>\n",
       "<polyline fill=\"none\" points=\"135.5,-332.5 135.5,-378.5 \" stroke=\"black\"/>\n",
       "<text font-family=\"Times,serif\" font-size=\"14.00\" text-anchor=\"middle\" x=\"163\" y=\"-363.3\">input:</text>\n",
       "<polyline fill=\"none\" points=\"135.5,-355.5 190.5,-355.5 \" stroke=\"black\"/>\n",
       "<text font-family=\"Times,serif\" font-size=\"14.00\" text-anchor=\"middle\" x=\"163\" y=\"-340.3\">output:</text>\n",
       "<polyline fill=\"none\" points=\"190.5,-332.5 190.5,-378.5 \" stroke=\"black\"/>\n",
       "<text font-family=\"Times,serif\" font-size=\"14.00\" text-anchor=\"middle\" x=\"250\" y=\"-363.3\">(None, None, 265)</text>\n",
       "<polyline fill=\"none\" points=\"190.5,-355.5 309.5,-355.5 \" stroke=\"black\"/>\n",
       "<text font-family=\"Times,serif\" font-size=\"14.00\" text-anchor=\"middle\" x=\"250\" y=\"-340.3\">(None, None, 265)</text>\n",
       "</g>\n",
       "<!-- 140403261341008 -->\n",
       "<g class=\"node\" id=\"node2\"><title>140403261341008</title>\n",
       "<polygon fill=\"none\" points=\"0,-249.5 0,-295.5 328,-295.5 328,-249.5 0,-249.5\" stroke=\"black\"/>\n",
       "<text font-family=\"Times,serif\" font-size=\"14.00\" text-anchor=\"middle\" x=\"77\" y=\"-268.8\">input_masked (Masking)</text>\n",
       "<polyline fill=\"none\" points=\"154,-249.5 154,-295.5 \" stroke=\"black\"/>\n",
       "<text font-family=\"Times,serif\" font-size=\"14.00\" text-anchor=\"middle\" x=\"181.5\" y=\"-280.3\">input:</text>\n",
       "<polyline fill=\"none\" points=\"154,-272.5 209,-272.5 \" stroke=\"black\"/>\n",
       "<text font-family=\"Times,serif\" font-size=\"14.00\" text-anchor=\"middle\" x=\"181.5\" y=\"-257.3\">output:</text>\n",
       "<polyline fill=\"none\" points=\"209,-249.5 209,-295.5 \" stroke=\"black\"/>\n",
       "<text font-family=\"Times,serif\" font-size=\"14.00\" text-anchor=\"middle\" x=\"268.5\" y=\"-280.3\">(None, None, 265)</text>\n",
       "<polyline fill=\"none\" points=\"209,-272.5 328,-272.5 \" stroke=\"black\"/>\n",
       "<text font-family=\"Times,serif\" font-size=\"14.00\" text-anchor=\"middle\" x=\"268.5\" y=\"-257.3\">(None, None, 265)</text>\n",
       "</g>\n",
       "<!-- 140403261341392&#45;&gt;140403261341008 -->\n",
       "<g class=\"edge\" id=\"edge1\"><title>140403261341392-&gt;140403261341008</title>\n",
       "<path d=\"M164,-332.366C164,-324.152 164,-314.658 164,-305.725\" fill=\"none\" stroke=\"black\"/>\n",
       "<polygon fill=\"black\" points=\"167.5,-305.607 164,-295.607 160.5,-305.607 167.5,-305.607\" stroke=\"black\"/>\n",
       "</g>\n",
       "<!-- 140403259674704 -->\n",
       "<g class=\"node\" id=\"node3\"><title>140403259674704</title>\n",
       "<polygon fill=\"none\" points=\"28.5,-166.5 28.5,-212.5 299.5,-212.5 299.5,-166.5 28.5,-166.5\" stroke=\"black\"/>\n",
       "<text font-family=\"Times,serif\" font-size=\"14.00\" text-anchor=\"middle\" x=\"77\" y=\"-185.8\">lstm1 (LSTM)</text>\n",
       "<polyline fill=\"none\" points=\"125.5,-166.5 125.5,-212.5 \" stroke=\"black\"/>\n",
       "<text font-family=\"Times,serif\" font-size=\"14.00\" text-anchor=\"middle\" x=\"153\" y=\"-197.3\">input:</text>\n",
       "<polyline fill=\"none\" points=\"125.5,-189.5 180.5,-189.5 \" stroke=\"black\"/>\n",
       "<text font-family=\"Times,serif\" font-size=\"14.00\" text-anchor=\"middle\" x=\"153\" y=\"-174.3\">output:</text>\n",
       "<polyline fill=\"none\" points=\"180.5,-166.5 180.5,-212.5 \" stroke=\"black\"/>\n",
       "<text font-family=\"Times,serif\" font-size=\"14.00\" text-anchor=\"middle\" x=\"240\" y=\"-197.3\">(None, None, 265)</text>\n",
       "<polyline fill=\"none\" points=\"180.5,-189.5 299.5,-189.5 \" stroke=\"black\"/>\n",
       "<text font-family=\"Times,serif\" font-size=\"14.00\" text-anchor=\"middle\" x=\"240\" y=\"-174.3\">(None, None, 128)</text>\n",
       "</g>\n",
       "<!-- 140403261341008&#45;&gt;140403259674704 -->\n",
       "<g class=\"edge\" id=\"edge2\"><title>140403261341008-&gt;140403259674704</title>\n",
       "<path d=\"M164,-249.366C164,-241.152 164,-231.658 164,-222.725\" fill=\"none\" stroke=\"black\"/>\n",
       "<polygon fill=\"black\" points=\"167.5,-222.607 164,-212.607 160.5,-222.607 167.5,-222.607\" stroke=\"black\"/>\n",
       "</g>\n",
       "<!-- 140403260233680 -->\n",
       "<g class=\"node\" id=\"node4\"><title>140403260233680</title>\n",
       "<polygon fill=\"none\" points=\"28.5,-83.5 28.5,-129.5 299.5,-129.5 299.5,-83.5 28.5,-83.5\" stroke=\"black\"/>\n",
       "<text font-family=\"Times,serif\" font-size=\"14.00\" text-anchor=\"middle\" x=\"77\" y=\"-102.8\">lstm2 (LSTM)</text>\n",
       "<polyline fill=\"none\" points=\"125.5,-83.5 125.5,-129.5 \" stroke=\"black\"/>\n",
       "<text font-family=\"Times,serif\" font-size=\"14.00\" text-anchor=\"middle\" x=\"153\" y=\"-114.3\">input:</text>\n",
       "<polyline fill=\"none\" points=\"125.5,-106.5 180.5,-106.5 \" stroke=\"black\"/>\n",
       "<text font-family=\"Times,serif\" font-size=\"14.00\" text-anchor=\"middle\" x=\"153\" y=\"-91.3\">output:</text>\n",
       "<polyline fill=\"none\" points=\"180.5,-83.5 180.5,-129.5 \" stroke=\"black\"/>\n",
       "<text font-family=\"Times,serif\" font-size=\"14.00\" text-anchor=\"middle\" x=\"240\" y=\"-114.3\">(None, None, 128)</text>\n",
       "<polyline fill=\"none\" points=\"180.5,-106.5 299.5,-106.5 \" stroke=\"black\"/>\n",
       "<text font-family=\"Times,serif\" font-size=\"14.00\" text-anchor=\"middle\" x=\"240\" y=\"-91.3\">(None, None, 256)</text>\n",
       "</g>\n",
       "<!-- 140403259674704&#45;&gt;140403260233680 -->\n",
       "<g class=\"edge\" id=\"edge3\"><title>140403259674704-&gt;140403260233680</title>\n",
       "<path d=\"M164,-166.366C164,-158.152 164,-148.658 164,-139.725\" fill=\"none\" stroke=\"black\"/>\n",
       "<polygon fill=\"black\" points=\"167.5,-139.607 164,-129.607 160.5,-139.607 167.5,-139.607\" stroke=\"black\"/>\n",
       "</g>\n",
       "<!-- 140403196030480 -->\n",
       "<g class=\"node\" id=\"node5\"><title>140403196030480</title>\n",
       "<polygon fill=\"none\" points=\"0,-0.5 0,-46.5 328,-46.5 328,-0.5 0,-0.5\" stroke=\"black\"/>\n",
       "<text font-family=\"Times,serif\" font-size=\"14.00\" text-anchor=\"middle\" x=\"77\" y=\"-19.8\">output (TimeDistributed)</text>\n",
       "<polyline fill=\"none\" points=\"154,-0.5 154,-46.5 \" stroke=\"black\"/>\n",
       "<text font-family=\"Times,serif\" font-size=\"14.00\" text-anchor=\"middle\" x=\"181.5\" y=\"-31.3\">input:</text>\n",
       "<polyline fill=\"none\" points=\"154,-23.5 209,-23.5 \" stroke=\"black\"/>\n",
       "<text font-family=\"Times,serif\" font-size=\"14.00\" text-anchor=\"middle\" x=\"181.5\" y=\"-8.3\">output:</text>\n",
       "<polyline fill=\"none\" points=\"209,-0.5 209,-46.5 \" stroke=\"black\"/>\n",
       "<text font-family=\"Times,serif\" font-size=\"14.00\" text-anchor=\"middle\" x=\"268.5\" y=\"-31.3\">(None, None, 256)</text>\n",
       "<polyline fill=\"none\" points=\"209,-23.5 328,-23.5 \" stroke=\"black\"/>\n",
       "<text font-family=\"Times,serif\" font-size=\"14.00\" text-anchor=\"middle\" x=\"268.5\" y=\"-8.3\">(None, None, 1)</text>\n",
       "</g>\n",
       "<!-- 140403260233680&#45;&gt;140403196030480 -->\n",
       "<g class=\"edge\" id=\"edge4\"><title>140403260233680-&gt;140403196030480</title>\n",
       "<path d=\"M164,-83.3664C164,-75.1516 164,-65.6579 164,-56.7252\" fill=\"none\" stroke=\"black\"/>\n",
       "<polygon fill=\"black\" points=\"167.5,-56.6068 164,-46.6068 160.5,-56.6069 167.5,-56.6068\" stroke=\"black\"/>\n",
       "</g>\n",
       "</g>\n",
       "</svg>"
      ],
      "text/plain": [
       "<IPython.core.display.SVG object>"
      ]
     },
     "execution_count": 16,
     "metadata": {},
     "output_type": "execute_result"
    }
   ],
   "source": [
    "# visualize model. Note: Requires pydot & graphviz. Uncomment block if want to view model diagram\n",
    "from IPython.display import SVG\n",
    "from keras.utils.visualize_util import model_to_dot\n",
    "SVG(model_to_dot(model, show_shapes=True).create(prog='dot', format='svg'))"
   ]
  },
  {
   "cell_type": "markdown",
   "metadata": {},
   "source": [
    "* Train model"
   ]
  },
  {
   "cell_type": "code",
   "execution_count": 17,
   "metadata": {
    "collapsed": false
   },
   "outputs": [
    {
     "name": "stdout",
     "output_type": "stream",
     "text": [
      "Epoch 1/20\n",
      "5000/5000 [==============================] - 20s - loss: 0.2958    \n",
      "Epoch 2/20\n",
      "5000/5000 [==============================] - 20s - loss: 0.2423    \n",
      "Epoch 3/20\n",
      "5000/5000 [==============================] - 20s - loss: 0.2191    \n",
      "Epoch 4/20\n",
      "5000/5000 [==============================] - 20s - loss: 0.2103    \n",
      "Epoch 5/20\n",
      "5000/5000 [==============================] - 20s - loss: 0.2004    \n",
      "Epoch 6/20\n",
      "5000/5000 [==============================] - 20s - loss: 0.1946    \n",
      "Epoch 7/20\n",
      "5000/5000 [==============================] - 20s - loss: 0.1950    \n",
      "Epoch 8/20\n",
      "5000/5000 [==============================] - 20s - loss: 0.1847    \n",
      "Epoch 9/20\n",
      "5000/5000 [==============================] - 20s - loss: 0.1739    \n",
      "Epoch 10/20\n",
      "5000/5000 [==============================] - 20s - loss: 0.1744    \n",
      "Epoch 11/20\n",
      "5000/5000 [==============================] - 20s - loss: 0.1681    \n",
      "Epoch 12/20\n",
      "5000/5000 [==============================] - 20s - loss: 0.1612    \n",
      "Epoch 13/20\n",
      "5000/5000 [==============================] - 20s - loss: 0.1600    \n",
      "Epoch 14/20\n",
      "5000/5000 [==============================] - 20s - loss: 0.1560    \n",
      "Epoch 15/20\n",
      "5000/5000 [==============================] - 20s - loss: 0.1536    \n",
      "Epoch 16/20\n",
      "5000/5000 [==============================] - 20s - loss: 0.1499    \n",
      "Epoch 17/20\n",
      "5000/5000 [==============================] - 20s - loss: 0.1468    \n",
      "Epoch 18/20\n",
      "5000/5000 [==============================] - 20s - loss: 0.1347    \n",
      "Epoch 19/20\n",
      "5000/5000 [==============================] - 20s - loss: 0.1415    \n",
      "Epoch 20/20\n",
      "5000/5000 [==============================] - 20s - loss: 0.1375    \n"
     ]
    }
   ],
   "source": [
    "# this will take a while...\n",
    "history = model.fit(X_train, y_train, batch_size=batch_size, nb_epoch=20, verbose=1)"
   ]
  },
  {
   "cell_type": "markdown",
   "metadata": {},
   "source": [
    "### 4. Evaluate Model & Compare with baselines"
   ]
  },
  {
   "cell_type": "markdown",
   "metadata": {},
   "source": [
    "* Evaluate performance on the hold out set"
   ]
  },
  {
   "cell_type": "code",
   "execution_count": 18,
   "metadata": {
    "collapsed": true
   },
   "outputs": [],
   "source": [
    "from sklearn.metrics import roc_curve, auc\n",
    "\n",
    "# generate RNN results on holdout validation set\n",
    "preds = model.predict(X_valid)\n",
    "\n",
    "# compute ROC curve and AUC\n",
    "rnn_roc = roc_curve(y_valid[:, 0, :].squeeze(), preds[:, -1, :].squeeze())\n",
    "rnn_auc = auc(rnn_roc[0], rnn_roc[1])"
   ]
  },
  {
   "cell_type": "markdown",
   "metadata": {},
   "source": [
    "* Compare against baselines: PRISM3 and PIM2"
   ]
  },
  {
   "cell_type": "code",
   "execution_count": 19,
   "metadata": {
    "collapsed": false
   },
   "outputs": [],
   "source": [
    "# scores for baselines PRISM3 and PIM2 were aggregated and stored in `data/pim2prism3.csv`.\n",
    "# let's load the scores, then compute the ROC curves and AUC\n",
    "baseline_scores = pd.read_csv(os.path.join(data_dir, 'pim2prism3.csv'))\n",
    "\n",
    "# prism3\n",
    "prism3_roc = roc_curve(baseline_scores['mortalityResponse'], -baseline_scores['PRISM3'])\n",
    "prism3_auc = auc(prism3_roc[0], prism3_roc[1])\n",
    "\n",
    "# pim2\n",
    "pim2_roc = roc_curve(baseline_scores['mortalityResponse'], -baseline_scores['PIM2'])\n",
    "pim2_auc = auc(pim2_roc[0], pim2_roc[1])"
   ]
  },
  {
   "cell_type": "code",
   "execution_count": 20,
   "metadata": {
    "collapsed": false,
    "scrolled": true
   },
   "outputs": [
    {
     "data": {
      "image/png": "[encoded data removed]",
      "text/plain": [
       "<matplotlib.figure.Figure at 0x7fb222b7d5d0>"
      ]
     },
     "metadata": {},
     "output_type": "display_data"
    }
   ],
   "source": [
    "# plot rocs & display AUCs\n",
    "plt.figure(figsize=(7, 5))\n",
    "line_kwargs = {'linewidth': 4, 'alpha': 0.8}\n",
    "plt.plot(prism3_roc[0], prism3_roc[1], label='prism3: %0.3f' % prism3_auc, color='#4A86E8', **line_kwargs)\n",
    "plt.plot(pim2_roc[0], pim2_roc[1], label='pim2: %0.3f' % pim2_auc, color='#FF9900', **line_kwargs)\n",
    "plt.plot(rnn_roc[0], rnn_roc[1], label='rnn: %0.3f' % rnn_auc, color='#6AA84F', **line_kwargs)\n",
    "plt.legend(loc='lower right', fontsize=20)\n",
    "plt.xlim((-0.05, 1.05))\n",
    "plt.ylim((-0.05, 1.05))\n",
    "plt.xticks([0, 0.25, 0.5, 0.75, 1.0], fontsize=14)\n",
    "plt.yticks([0, 0.25, 0.5, 0.75, 1.0], fontsize=14)\n",
    "plt.xlabel(\"False Positive Rate\", fontsize=18)\n",
    "plt.ylabel(\"True Positive Rate\", fontsize=18)\n",
    "plt.title(\"Severity of Illness ROC Curves\", fontsize=24)\n",
    "plt.grid(alpha=0.25)\n",
    "plt.tight_layout()"
   ]
  },
  {
   "cell_type": "markdown",
   "metadata": {},
   "source": [
    "### 5. Conclusions"
   ]
  },
  {
   "cell_type": "markdown",
   "metadata": {},
   "source": [
    "RNNs provide a method to quickly extract clinically significant information and insights from available EHR data.\n",
    "\n",
    "To lessen computational burden, the amount of data, model complexity, number of features, and number of epochs have been reduced in this tutorial.  The examples below display the performance of a fully trained RNN on a larger dataset.  They also show the performance of PIM2 and PRISM3, two standard scoring systems,  as well as the performance of a logistic regression model and a multi-layer perceptron (MLP).  \n",
    "\n",
    "The temporally dynamic nature of the RNN enables it to extract more information from the underlying EHR than an MLP.  The MLP's complexity is similar to the RNN's, but the former is limited to instantaneous information.\n",
    "\n",
    "<img src=\"images/RNN_performance.svg\" width=\"500\" height=\"500\">\n",
    "\n",
    "Below shows the temporal trajectory of the fully trained RNN's probability of survival predictions. The capability to provide a prediction at any timestep of interest provides a valuable feedback to a clinician trying to asses the impact of treatment decisions.   \n",
    "\n",
    "<img src=\"images/MortalityThroughTime.svg\" width=\"500\" height=\"500\">\n"
   ]
  },
  {
   "cell_type": "code",
   "execution_count": null,
   "metadata": {
    "collapsed": true
   },
   "outputs": [],
   "source": []
  }
 ],
 "metadata": {
  "kernelspec": {
   "display_name": "Python 3",
   "language": "python",
   "name": "python3"
  },
  "language_info": {
   "codemirror_mode": {
    "name": "ipython",
    "version": 3
   },
   "file_extension": ".py",
   "mimetype": "text/x-python",
   "name": "python",
   "nbconvert_exporter": "python",
   "pygments_lexer": "ipython3",
   "version": "3.4.3"
  }
 },
 "nbformat": 4,
 "nbformat_minor": 0
}
